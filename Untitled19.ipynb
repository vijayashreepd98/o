{
 "cells": [
  {
   "cell_type": "code",
   "execution_count": 3,
   "metadata": {},
   "outputs": [
    {
     "name": "stdout",
     "output_type": "stream",
     "text": [
      "enter namehhello\n",
      "h appear 2 times\n",
      "e appear 1 times\n",
      "l appear 2 times\n",
      "o appear 1 times\n"
     ]
    }
   ],
   "source": [
    "word=input(\"enter name\")\n",
    "d={}\n",
    "for i in word:\n",
    "    d[i]=d.get(i,0)+1\n",
    "for k,v in d.items():\n",
    "    print(k,\"appear\",v,\"times\")\n",
    "    "
   ]
  },
  {
   "cell_type": "code",
   "execution_count": 4,
   "metadata": {},
   "outputs": [
    {
     "name": "stdout",
     "output_type": "stream",
     "text": [
      "enter a stringhello\n",
      "{'e': 1, 'o': 1}\n"
     ]
    }
   ],
   "source": [
    "str1=input('enter a string')\n",
    "d={}\n",
    "for k in str1:\n",
    "    if k==\"a\":\n",
    "        d[k]=d.get(k,0)+1\n",
    "    if k=='e':\n",
    "        d[k]=d.get(k,0)+1\n",
    "    if k=='i':\n",
    "        d[k]=d.get(k,0)+1\n",
    "    if k=='o':\n",
    "        d[k]=d.get(k,0)+1\n",
    "    if k=='u':\n",
    "        d[k]=d.get(k,0)+1\n",
    "print(d)"
   ]
  },
  {
   "cell_type": "code",
   "execution_count": 5,
   "metadata": {},
   "outputs": [
    {
     "name": "stdout",
     "output_type": "stream",
     "text": [
      "enter a stringhaiiigta\n",
      "{'a': 2, 'i': 3}\n"
     ]
    }
   ],
   "source": [
    "str1=input('enter a string')\n",
    "d={}\n",
    "vowels=['a','e','i','o','u']\n",
    "for k in str1:\n",
    "    for m in vowels:\n",
    "        if k==m:\n",
    "            d[m]=d.get(k,0)+1\n",
    "print(d)"
   ]
  },
  {
   "cell_type": "code",
   "execution_count": 12,
   "metadata": {},
   "outputs": [
    {
     "name": "stdout",
     "output_type": "stream",
     "text": [
      "{'radha': 33, 'ram': 89, 'yash': 45}\n"
     ]
    }
   ],
   "source": [
    "lst=dict()\n",
    "lst={'radha':33,'ram':89,'yash':45}\n",
    "print(lst)"
   ]
  },
  {
   "cell_type": "code",
   "execution_count": 13,
   "metadata": {},
   "outputs": [
    {
     "name": "stdout",
     "output_type": "stream",
     "text": [
      "3\n"
     ]
    }
   ],
   "source": [
    "print(len(lst))"
   ]
  },
  {
   "cell_type": "code",
   "execution_count": 7,
   "metadata": {},
   "outputs": [],
   "source": [
    "del lst['radha']\n"
   ]
  },
  {
   "cell_type": "code",
   "execution_count": 8,
   "metadata": {},
   "outputs": [
    {
     "name": "stdout",
     "output_type": "stream",
     "text": [
      "{'ram': 89, 'yash': 45}\n"
     ]
    }
   ],
   "source": [
    "print(lst)"
   ]
  },
  {
   "cell_type": "code",
   "execution_count": 9,
   "metadata": {},
   "outputs": [
    {
     "name": "stdout",
     "output_type": "stream",
     "text": [
      "{1: 1, 2: 4, 3: 9, 4: 16, 5: 25}\n"
     ]
    }
   ],
   "source": [
    "sq={x:x*x for x in range(1,6)}\n",
    "print(sq)"
   ]
  },
  {
   "cell_type": "code",
   "execution_count": 10,
   "metadata": {},
   "outputs": [],
   "source": [
    "lst.clear()\n"
   ]
  },
  {
   "cell_type": "code",
   "execution_count": 11,
   "metadata": {},
   "outputs": [
    {
     "name": "stdout",
     "output_type": "stream",
     "text": [
      "{}\n"
     ]
    }
   ],
   "source": [
    "print(lst)"
   ]
  },
  {
   "cell_type": "code",
   "execution_count": null,
   "metadata": {},
   "outputs": [],
   "source": [
    "std=dict()\n",
    "n=int(input(\"enter a no iof student\"))\n",
    "i=0\n",
    "while i<n:\n",
    "    \n",
    "    name=input(\"enter a student name\")\n",
    "    marks=int(input(\"enter a marks\"))\n",
    "    std[name]=marks\n",
    "    i=i+1\n",
    "print(\"name of the student \\t %ge of mark\\n\")\n",
    "for j in std:\n",
    "    print(\"\\t\",\"\\t\",std[j])"
   ]
  },
  {
   "cell_type": "code",
   "execution_count": null,
   "metadata": {},
   "outputs": [],
   "source": [
    "n=[1,2,3,4,5,6,7]\n",
    "print(n.count())"
   ]
  },
  {
   "cell_type": "code",
   "execution_count": null,
   "metadata": {},
   "outputs": [],
   "source": []
  }
 ],
 "metadata": {
  "kernelspec": {
   "display_name": "Python 3",
   "language": "python",
   "name": "python3"
  },
  "language_info": {
   "codemirror_mode": {
    "name": "ipython",
    "version": 3
   },
   "file_extension": ".py",
   "mimetype": "text/x-python",
   "name": "python",
   "nbconvert_exporter": "python",
   "pygments_lexer": "ipython3",
   "version": "3.7.1"
  }
 },
 "nbformat": 4,
 "nbformat_minor": 2
}
