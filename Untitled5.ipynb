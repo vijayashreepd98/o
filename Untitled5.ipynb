{
 "cells": [
  {
   "cell_type": "code",
   "execution_count": 10,
   "metadata": {},
   "outputs": [
    {
     "name": "stdout",
     "output_type": "stream",
     "text": [
      "[2, 7, 5]\n",
      "[4, 9, 6]\n",
      "[6, 2, 4]\n"
     ]
    }
   ],
   "source": [
    "list1=[[1,2,3],[1,5,2],[3,1,2]]\n",
    "list2=[[1,5,2],[3,4,4],[3,1,2]]\n",
    "list3=[[0,0,0],[0,0,0],[0,0,0]]\n",
    "for i in range(len(list1)):\n",
    "    for j in range(len(list2)):\n",
    "        list3[i][j]=list1[i][j]+list2[i][j];\n",
    "        \n",
    "for i in list3:\n",
    "    print(i)\n",
    "    \n",
    "            \n",
    "        "
   ]
  },
  {
   "cell_type": "code",
   "execution_count": 12,
   "metadata": {},
   "outputs": [
    {
     "name": "stdout",
     "output_type": "stream",
     "text": [
      "[16, 16, 16]\n",
      "[22, 27, 26]\n",
      "[12, 21, 14]\n"
     ]
    }
   ],
   "source": [
    "list1=[[1,2,3],[1,5,2],[3,1,2]]\n",
    "list2=[[1,5,2],[3,4,4],[3,1,2]]\n",
    "list3=[[0,0,0],[0,0,0],[0,0,0]]\n",
    "for k in range(len(list3)):\n",
    "    for i in range(len(list1)):\n",
    "        for j in range(len(list2)):\n",
    "            list3[i][j]=list3[i][j]+(list1[i][k]*list2[k][j])\n",
    "        \n",
    "for i in list3:\n",
    "    print(i)"
   ]
  },
  {
   "cell_type": "code",
   "execution_count": null,
   "metadata": {},
   "outputs": [],
   "source": [
    "list1=[1,2,3,4,5,6,7,34]\n",
    "def search(key,low,high):\n",
    "    \n",
    "low=0\n",
    "high=len(list1)\n",
    "key=int(input(\"enter a key\"))\n",
    "while(high>=0)\n",
    "    mid=len(list1)/2\n",
    "    if mid>=0&&key<mid:\n",
    "    \n",
    "        search(key,low,mid-1)\n",
    "    for mid<high&&key>mid:\n",
    "        search(key,mid+1,high)\n",
    "        \n",
    "    for i in range(len(list1)):\n",
    "    mid="
   ]
  }
 ],
 "metadata": {
  "kernelspec": {
   "display_name": "Python 3",
   "language": "python",
   "name": "python3"
  },
  "language_info": {
   "codemirror_mode": {
    "name": "ipython",
    "version": 3
   },
   "file_extension": ".py",
   "mimetype": "text/x-python",
   "name": "python",
   "nbconvert_exporter": "python",
   "pygments_lexer": "ipython3",
   "version": "3.7.1"
  }
 },
 "nbformat": 4,
 "nbformat_minor": 2
}
