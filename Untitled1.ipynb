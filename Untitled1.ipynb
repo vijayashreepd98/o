{
 "cells": [
  {
   "cell_type": "code",
   "execution_count": 12,
   "metadata": {},
   "outputs": [
    {
     "name": "stdout",
     "output_type": "stream",
     "text": [
      "vijju@gmai.com\n",
      "heello@gmail.com\n",
      "jeevan@gamil.com\n",
      "shree@gmail.com\n",
      "reshma@gmail.com\n",
      "reena@gmail.com\n",
      "raji@gmail.com\n"
     ]
    }
   ],
   "source": [
    "list1=['vijju@gmai.com','heello@gmail.com','raghav','jeevan@gamil.com','shree@gmail.com','reshma@gmail.com','good_evening','reena@gmail.com','hello_world','raji@gmail.com']\n",
    "\n",
    "for a in list1:\n",
    "    for i in a:\n",
    "        if i =='@':\n",
    "            print(a);"
   ]
  },
  {
   "cell_type": "code",
   "execution_count": 17,
   "metadata": {},
   "outputs": [
    {
     "name": "stdout",
     "output_type": "stream",
     "text": [
      "vijju@gmai.com\n",
      "heello@gmail.com\n",
      "jeevan@gamil.com\n",
      "shree@gmail.com\n",
      "reshma@gmail.com\n",
      "reena@gmail.com\n",
      "raji@gmail.com\n"
     ]
    }
   ],
   "source": [
    "list1=['vijju@gmai.com','heello@gmail.com','raghav','jeevan@gamil.com','shree@gmail.com','reshma@gmail.com','good_evening','reena@gmail.com','hello_world','raji@gmail.com']\n",
    "for a in list1:\n",
    "    if a.find('@')>0:\n",
    "        print(a)\n",
    "        "
   ]
  },
  {
   "cell_type": "code",
   "execution_count": 47,
   "metadata": {},
   "outputs": [
    {
     "name": "stdout",
     "output_type": "stream",
     "text": [
      "enter n value3\n",
      "6\n"
     ]
    }
   ],
   "source": [
    "\n",
    "def sum(n):\n",
    "    if n==0:\n",
    "        return 0;\n",
    "    else:\n",
    "        return (n+sum(n-1))\n",
    "n=int(input('enter n value'))\n",
    "print(sum(n))"
   ]
  },
  {
   "cell_type": "code",
   "execution_count": 48,
   "metadata": {},
   "outputs": [
    {
     "ename": "NameError",
     "evalue": "name 'pd' is not defined",
     "output_type": "error",
     "traceback": [
      "\u001b[1;31m---------------------------------------------------------------------------\u001b[0m",
      "\u001b[1;31mNameError\u001b[0m                                 Traceback (most recent call last)",
      "\u001b[1;32m<ipython-input-48-6d181092c278>\u001b[0m in \u001b[0;36m<module>\u001b[1;34m\u001b[0m\n\u001b[0;32m      1\u001b[0m \u001b[0ma\u001b[0m\u001b[1;33m=\u001b[0m\u001b[1;33m[\u001b[0m\u001b[1;34m'vijju'\u001b[0m\u001b[1;33m,\u001b[0m\u001b[1;34m'raji'\u001b[0m\u001b[1;33m,\u001b[0m\u001b[1;34m'reena'\u001b[0m\u001b[1;33m]\u001b[0m\u001b[1;33m\u001b[0m\u001b[1;33m\u001b[0m\u001b[0m\n\u001b[1;32m----> 2\u001b[1;33m \u001b[0mpd\u001b[0m\u001b[1;33m.\u001b[0m\u001b[0mSeries\u001b[0m\u001b[1;33m(\u001b[0m\u001b[0ma\u001b[0m\u001b[1;33m)\u001b[0m\u001b[1;33m\u001b[0m\u001b[1;33m\u001b[0m\u001b[0m\n\u001b[0m",
      "\u001b[1;31mNameError\u001b[0m: name 'pd' is not defined"
     ]
    }
   ],
   "source": [
    "a=['vijju','raji','reena']\n",
    "pd.Series(a)"
   ]
  },
  {
   "cell_type": "raw",
   "metadata": {},
   "source": [
    "e=['f','g','h','w','a']\n",
    "e.sort()\n"
   ]
  }
 ],
 "metadata": {
  "kernelspec": {
   "display_name": "Python 3",
   "language": "python",
   "name": "python3"
  },
  "language_info": {
   "codemirror_mode": {
    "name": "ipython",
    "version": 3
   },
   "file_extension": ".py",
   "mimetype": "text/x-python",
   "name": "python",
   "nbconvert_exporter": "python",
   "pygments_lexer": "ipython3",
   "version": "3.7.1"
  }
 },
 "nbformat": 4,
 "nbformat_minor": 2
}
