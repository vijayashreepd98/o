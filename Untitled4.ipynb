{
 "cells": [
  {
   "cell_type": "code",
   "execution_count": 13,
   "metadata": {},
   "outputs": [
    {
     "name": "stdout",
     "output_type": "stream",
     "text": [
      "enter a no 65\n",
      "not prime no\n"
     ]
    }
   ],
   "source": [
    "list1=[2,3,5,7,11]\n",
    "s=int(input(\"enter a no \"))\n",
    "for i in list1:\n",
    "    if s%i==0:\n",
    "        flag=0\n",
    "        break\n",
    "        \n",
    "    else:\n",
    "        flag=1\n",
    "if flag==0:\n",
    "    print(\"not prime number\")\n",
    "else:\n",
    "    print(\"prime number\")"
   ]
  },
  {
   "cell_type": "code",
   "execution_count": 4,
   "metadata": {},
   "outputs": [
    {
     "name": "stdout",
     "output_type": "stream",
     "text": [
      "enter a no 1\n",
      "enter ending no10\n",
      "1\n",
      "1\n",
      "1\n",
      "1\n",
      "1\n",
      "2\n",
      "2\n",
      "2\n",
      "2\n",
      "3\n",
      "3\n",
      "3\n",
      "3\n",
      "4\n",
      "4\n",
      "4\n",
      "4\n",
      "5\n",
      "5\n",
      "5\n",
      "5\n",
      "6\n",
      "6\n",
      "6\n",
      "7\n",
      "7\n",
      "7\n",
      "7\n",
      "8\n",
      "8\n",
      "8\n",
      "8\n",
      "9\n",
      "9\n",
      "9\n",
      "9\n"
     ]
    }
   ],
   "source": [
    "list1=[2,3,5,7,11]\n",
    "s=int(input(\"enter a no \"))\n",
    "e=int(input(\"enter ending no\"))\n",
    "for j in range(s,e):\n",
    "    for i in list1:\n",
    "        if j%i!=0:\n",
    "            flag=1\n",
    "            if flag==1:\n",
    "                print(j)\n",
    "            else:\n",
    "                continue\n",
    "    \n",
    "        \n"
   ]
  },
  {
   "cell_type": "code",
   "execution_count": 5,
   "metadata": {},
   "outputs": [
    {
     "name": "stdout",
     "output_type": "stream",
     "text": [
      "enter a no 7\n",
      "7 prime no\n",
      "7 prime no\n",
      "7 prime no\n",
      "7 prime no\n",
      "7 prime no\n"
     ]
    }
   ],
   "source": [
    "\n",
    "s=int(input(\"enter a no \"))\n",
    "if s>1:\n",
    "    for i in range(2,s):\n",
    "        if (s%i)==0:\n",
    "            print(s,'not a prime')\n",
    "            print(i,'times',s//i,'is',s)\n",
    "            break\n",
    "        else:\n",
    "            print(s,'prime no')\n",
    "else:\n",
    "    print(s,'is not prime no')\n",
    "        \n",
    "        \n",
    "            \n",
    "    \n",
    "        \n"
   ]
  },
  {
   "cell_type": "code",
   "execution_count": 6,
   "metadata": {},
   "outputs": [
    {
     "ename": "SyntaxError",
     "evalue": "invalid syntax (<ipython-input-6-cd6ca73feeee>, line 6)",
     "output_type": "error",
     "traceback": [
      "\u001b[1;36m  File \u001b[1;32m\"<ipython-input-6-cd6ca73feeee>\"\u001b[1;36m, line \u001b[1;32m6\u001b[0m\n\u001b[1;33m    fib[i]=fib[]\u001b[0m\n\u001b[1;37m               ^\u001b[0m\n\u001b[1;31mSyntaxError\u001b[0m\u001b[1;31m:\u001b[0m invalid syntax\n"
     ]
    }
   ],
   "source": [
    "fib=[]\n",
    "fib[0]=0\n",
    "fib[1]=1\n",
    "n=int(input('enter no'))\n",
    "for i in range(2,n):\n",
    "    fib[i]=fib[i-2]+fib[i-1]\n",
    "    print(fib)"
   ]
  },
  {
   "cell_type": "code",
   "execution_count": null,
   "metadata": {},
   "outputs": [],
   "source": []
  }
 ],
 "metadata": {
  "kernelspec": {
   "display_name": "Python 3",
   "language": "python",
   "name": "python3"
  }
 },
 "nbformat": 4,
 "nbformat_minor": 2
}
