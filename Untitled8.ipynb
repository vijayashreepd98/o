{
 "cells": [
  {
   "cell_type": "code",
   "execution_count": 4,
   "metadata": {},
   "outputs": [
    {
     "name": "stdout",
     "output_type": "stream",
     "text": [
      "enter no of names3\n",
      "enter namevijju\n",
      "enter nameas\n",
      "enter namery\n",
      "sorted list is ['as', 'ry', 'vijju']\n"
     ]
    }
   ],
   "source": [
    "list=[]\n",
    "n=int(input('enter no of names'))\n",
    "while n>0:\n",
    "    list.append(input('enter name'))\n",
    "    n=n-1\n",
    "list.sort()\n",
    "print('sorted list is',list)"
   ]
  },
  {
   "cell_type": "code",
   "execution_count": null,
   "metadata": {},
   "outputs": [],
   "source": []
  }
 ],
 "metadata": {
  "kernelspec": {
   "display_name": "Python 3",
   "language": "python",
   "name": "python3"
  },
  "language_info": {
   "codemirror_mode": {
    "name": "ipython",
    "version": 3
   },
   "file_extension": ".py",
   "mimetype": "text/x-python",
   "name": "python",
   "nbconvert_exporter": "python",
   "pygments_lexer": "ipython3",
   "version": "3.7.1"
  }
 },
 "nbformat": 4,
 "nbformat_minor": 2
}
