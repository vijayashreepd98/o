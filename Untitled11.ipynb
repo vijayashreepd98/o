{
 "cells": [
  {
   "cell_type": "code",
   "execution_count": null,
   "metadata": {},
   "outputs": [],
   "source": [
    "fopen=input(\"enter a fne name\")\n",
    "try:\n",
    "    file=open(fopen)\n",
    "    \n",
    "except:\n",
    "    print(\"cannt opened\")\n",
    "cont=dict()\n",
    "for line in cont:\n",
    "    words=line.split()\n",
    "    for word in words:\n",
    "        if word not in cont:\n",
    "            cont[word]=1\n",
    "        else:\n",
    "            cont[word]"
   ]
  }
 ],
 "metadata": {
  "kernelspec": {
   "display_name": "Python 3",
   "language": "python",
   "name": "python3"
  },
  "language_info": {
   "codemirror_mode": {
    "name": "ipython",
    "version": 3
   },
   "file_extension": ".py",
   "mimetype": "text/x-python",
   "name": "python",
   "nbconvert_exporter": "python",
   "pygments_lexer": "ipython3",
   "version": "3.7.1"
  }
 },
 "nbformat": 4,
 "nbformat_minor": 2
}
