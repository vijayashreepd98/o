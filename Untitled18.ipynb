{
 "cells": [
  {
   "cell_type": "code",
   "execution_count": null,
   "metadata": {},
   "outputs": [],
   "source": [
    "n=int(input('enter n value'))\n",
    "i=0\n",
    "j=0\n",
    "for i in range(0,n):\n",
    "    \n",
    "    for j in range(0,n):\n",
    "        if i+j>= n-1:\n",
    "            print(\"*\",end=\" \")\n",
    "        else: \n",
    "            print(\" \",end=\" \")\n",
    "    print(\" \")\n",
    "            "
   ]
  },
  {
   "cell_type": "code",
   "execution_count": null,
   "metadata": {},
   "outputs": [],
   "source": [
    "str=input(\"enter a string\")\n",
    "for i in range(len(str)):\n",
    "    for j in range(0,i+1):\n",
    "        print(str[i],end=\" \")\n",
    "    print(\" \")\n",
    "        \n",
    "    \n",
    "    "
   ]
  },
  {
   "cell_type": "code",
   "execution_count": null,
   "metadata": {},
   "outputs": [],
   "source": [
    "std=dict()\n",
    "n=int(input(\"enter a no iof student\"))\n",
    "i=0\n",
    "while i<n:\n",
    "    \n",
    "    name=input(\"enter a student name\")\n",
    "    marks=int(input(\"enter a marks\"))\n",
    "    std[name]=marks\n",
    "    i=i+1\n",
    "print(\"name of the student \\t %ge of mark\\n\")\n",
    "for j in std:\n",
    "    print(\"\\t\",\"\\t\",std[j])\n",
    "    "
   ]
  },
  {
   "cell_type": "code",
   "execution_count": null,
   "metadata": {},
   "outputs": [],
   "source": [
    "lst=dict()\n",
    "lst={'radha':33,'ram':89,'yash':45}\n",
    "print(lst)"
   ]
  },
  {
   "cell_type": "code",
   "execution_count": null,
   "metadata": {},
   "outputs": [],
   "source": [
    "del lst['radha']"
   ]
  },
  {
   "cell_type": "code",
   "execution_count": null,
   "metadata": {},
   "outputs": [],
   "source": [
    "del lst"
   ]
  },
  {
   "cell_type": "code",
   "execution_count": null,
   "metadata": {},
   "outputs": [],
   "source": [
    "lst.clear()\n"
   ]
  },
  {
   "cell_type": "code",
   "execution_count": null,
   "metadata": {},
   "outputs": [],
   "source": [
    "len()"
   ]
  }
 ],
 "metadata": {
  "kernelspec": {
   "display_name": "Python 3",
   "language": "python",
   "name": "python3"
  },
  "language_info": {
   "codemirror_mode": {
    "name": "ipython",
    "version": 3
   },
   "file_extension": ".py",
   "mimetype": "text/x-python",
   "name": "python",
   "nbconvert_exporter": "python",
   "pygments_lexer": "ipython3",
   "version": "3.7.1"
  }
 },
 "nbformat": 4,
 "nbformat_minor": 2
}
