{
 "cells": [
  {
   "cell_type": "code",
   "execution_count": 1,
   "metadata": {
    "colab": {
     "base_uri": "https://localhost:8080/",
     "height": 34
    },
    "colab_type": "code",
    "id": "OFI0w62PT57g",
    "outputId": "d25249af-cbb7-4623-ca5d-38f580ca75b3"
   },
   "outputs": [
    {
     "name": "stdout",
     "output_type": "stream",
     "text": [
      "hello\n"
     ]
    }
   ],
   "source": [
    "print('hello')\n"
   ]
  },
  {
   "cell_type": "code",
   "execution_count": 2,
   "metadata": {
    "colab": {
     "base_uri": "https://localhost:8080/",
     "height": 34
    },
    "colab_type": "code",
    "id": "eWlmOwu9WA22",
    "outputId": "a1f4e64a-5af8-4b87-882e-c2ede218aa8d"
   },
   "outputs": [
    {
     "data": {
      "text/plain": [
       "16"
      ]
     },
     "execution_count": 2,
     "metadata": {
      "tags": []
     },
     "output_type": "execute_result"
    }
   ],
   "source": [
    "2**4"
   ]
  },
  {
   "cell_type": "code",
   "execution_count": 3,
   "metadata": {
    "colab": {
     "base_uri": "https://localhost:8080/",
     "height": 34
    },
    "colab_type": "code",
    "id": "rtCuYHv8WMCK",
    "outputId": "c0140c33-c23f-4cd2-86ed-c813aba135a4"
   },
   "outputs": [
    {
     "data": {
      "text/plain": [
       "0"
      ]
     },
     "execution_count": 3,
     "metadata": {
      "tags": []
     },
     "output_type": "execute_result"
    }
   ],
   "source": [
    "4%2\n"
   ]
  },
  {
   "cell_type": "code",
   "execution_count": 4,
   "metadata": {
    "colab": {
     "base_uri": "https://localhost:8080/",
     "height": 34
    },
    "colab_type": "code",
    "id": "L6xaNg-xWR26",
    "outputId": "ebc1eebb-3d14-4e17-eb3e-ce662faf538f"
   },
   "outputs": [
    {
     "data": {
      "text/plain": [
       "0"
      ]
     },
     "execution_count": 4,
     "metadata": {
      "tags": []
     },
     "output_type": "execute_result"
    }
   ],
   "source": [
    "4//5"
   ]
  },
  {
   "cell_type": "code",
   "execution_count": 5,
   "metadata": {
    "colab": {
     "base_uri": "https://localhost:8080/",
     "height": 34
    },
    "colab_type": "code",
    "id": "ptfYuJTuWUNV",
    "outputId": "1be267fa-70bb-48b8-9a05-bc4bdc8e1770"
   },
   "outputs": [
    {
     "data": {
      "text/plain": [
       "1"
      ]
     },
     "execution_count": 5,
     "metadata": {
      "tags": []
     },
     "output_type": "execute_result"
    }
   ],
   "source": [
    "6//4"
   ]
  },
  {
   "cell_type": "code",
   "execution_count": 6,
   "metadata": {
    "colab": {
     "base_uri": "https://localhost:8080/",
     "height": 34
    },
    "colab_type": "code",
    "id": "pCQsKssCWXNb",
    "outputId": "6992d3aa-0124-43be-ba75-3664f47eb785"
   },
   "outputs": [
    {
     "data": {
      "text/plain": [
       "42"
      ]
     },
     "execution_count": 6,
     "metadata": {
      "tags": []
     },
     "output_type": "execute_result"
    }
   ],
   "source": [
    "22+3*5+5"
   ]
  },
  {
   "cell_type": "code",
   "execution_count": 7,
   "metadata": {
    "colab": {
     "base_uri": "https://localhost:8080/",
     "height": 34
    },
    "colab_type": "code",
    "id": "DXz8ulhHW9UJ",
    "outputId": "1caa0c8b-61f1-4a56-8463-5d0ae6807f20"
   },
   "outputs": [
    {
     "data": {
      "text/plain": [
       "50"
      ]
     },
     "execution_count": 7,
     "metadata": {
      "tags": []
     },
     "output_type": "execute_result"
    }
   ],
   "source": [
    "\n",
    "(2+3)*(5+5)"
   ]
  },
  {
   "cell_type": "code",
   "execution_count": 0,
   "metadata": {
    "colab": {},
    "colab_type": "code",
    "id": "9wsCaeZ0XGVF"
   },
   "outputs": [],
   "source": [
    "a=5\n"
   ]
  },
  {
   "cell_type": "code",
   "execution_count": 9,
   "metadata": {
    "colab": {
     "base_uri": "https://localhost:8080/",
     "height": 34
    },
    "colab_type": "code",
    "id": "0OmQpobpXjVJ",
    "outputId": "f25ff916-8d4a-4092-ec5d-d41620383f9f"
   },
   "outputs": [
    {
     "name": "stdout",
     "output_type": "stream",
     "text": [
      "5\n"
     ]
    }
   ],
   "source": [
    "print(a)"
   ]
  },
  {
   "cell_type": "code",
   "execution_count": 0,
   "metadata": {
    "colab": {},
    "colab_type": "code",
    "id": "VWVYD0E-Xw9U"
   },
   "outputs": [],
   "source": [
    "ab=800"
   ]
  },
  {
   "cell_type": "code",
   "execution_count": 0,
   "metadata": {
    "cellView": "both",
    "colab": {},
    "colab_type": "code",
    "id": "Z7hT0wY6ZGla"
   },
   "outputs": [],
   "source": [
    "#@title\n",
    "#declaration"
   ]
  },
  {
   "cell_type": "code",
   "execution_count": 10,
   "metadata": {
    "colab": {
     "base_uri": "https://localhost:8080/",
     "height": 34
    },
    "colab_type": "code",
    "id": "XTFob74DXlnL",
    "outputId": "473cc907-c80b-4405-a500-b1b08ab3209e"
   },
   "outputs": [
    {
     "data": {
      "text/plain": [
       "5"
      ]
     },
     "execution_count": 10,
     "metadata": {
      "tags": []
     },
     "output_type": "execute_result"
    }
   ],
   "source": [
    "a"
   ]
  },
  {
   "cell_type": "code",
   "execution_count": 34,
   "metadata": {
    "colab": {
     "base_uri": "https://localhost:8080/",
     "height": 197
    },
    "colab_type": "code",
    "id": "t5-8bNivXm9D",
    "outputId": "a7c365a0-24d2-45fd-b75d-f6f18ed7a2c6"
   },
   "outputs": [
    {
     "ename": "TypeError",
     "evalue": "ignored",
     "output_type": "error",
     "traceback": [
      "\u001b[0;31m---------------------------------------------------------------------------\u001b[0m",
      "\u001b[0;31mTypeError\u001b[0m                                 Traceback (most recent call last)",
      "\u001b[0;32m<ipython-input-34-970eb33bfe79>\u001b[0m in \u001b[0;36m<module>\u001b[0;34m()\u001b[0m\n\u001b[1;32m      1\u001b[0m \u001b[0mab\u001b[0m\u001b[0;34m=\u001b[0m\u001b[0;36m100\u001b[0m\u001b[0;34m\u001b[0m\u001b[0;34m\u001b[0m\u001b[0m\n\u001b[1;32m      2\u001b[0m \u001b[0mab\u001b[0m\u001b[0;34m\u001b[0m\u001b[0;34m\u001b[0m\u001b[0m\n\u001b[0;32m----> 3\u001b[0;31m \u001b[0msum\u001b[0m\u001b[0;34m(\u001b[0m\u001b[0mab\u001b[0m\u001b[0;34m,\u001b[0m\u001b[0ma\u001b[0m\u001b[0;34m)\u001b[0m\u001b[0;34m\u001b[0m\u001b[0;34m\u001b[0m\u001b[0m\n\u001b[0m",
      "\u001b[0;31mTypeError\u001b[0m: 'int' object is not iterable"
     ]
    }
   ],
   "source": [
    "ab=100\n",
    "ab\n",
    "sum(ab,a)"
   ]
  },
  {
   "cell_type": "code",
   "execution_count": 13,
   "metadata": {
    "colab": {
     "base_uri": "https://localhost:8080/",
     "height": 34
    },
    "colab_type": "code",
    "id": "2AiWrffPX4pZ",
    "outputId": "9ab01443-6091-4cd3-e887-b6ad76341013"
   },
   "outputs": [
    {
     "name": "stdout",
     "output_type": "stream",
     "text": [
      "a= 800\n"
     ]
    }
   ],
   "source": [
    "print('a=',ab)"
   ]
  },
  {
   "cell_type": "code",
   "execution_count": 17,
   "metadata": {
    "colab": {
     "base_uri": "https://localhost:8080/",
     "height": 34
    },
    "colab_type": "code",
    "id": "u8u45ypQYFwJ",
    "outputId": "ee8190db-2191-45ae-cc62-97a065d6c0ad"
   },
   "outputs": [
    {
     "data": {
      "text/plain": [
       "'mangalore is a nice place'"
      ]
     },
     "execution_count": 17,
     "metadata": {
      "tags": []
     },
     "output_type": "execute_result"
    }
   ],
   "source": [
    "'mangalore is a nice place'"
   ]
  },
  {
   "cell_type": "code",
   "execution_count": 15,
   "metadata": {
    "colab": {
     "base_uri": "https://localhost:8080/",
     "height": 34
    },
    "colab_type": "code",
    "id": "-noG07uEYP99",
    "outputId": "3d2f7479-ccfd-4803-89b7-0df7b7de8c59"
   },
   "outputs": [
    {
     "data": {
      "text/plain": [
       "'managalore is a great place to live'"
      ]
     },
     "execution_count": 15,
     "metadata": {
      "tags": []
     },
     "output_type": "execute_result"
    }
   ],
   "source": [
    "\"managalore is a great place to live\""
   ]
  },
  {
   "cell_type": "code",
   "execution_count": 16,
   "metadata": {
    "colab": {
     "base_uri": "https://localhost:8080/",
     "height": 34
    },
    "colab_type": "code",
    "id": "X-ZC5aWQYXW6",
    "outputId": "5ec0ea88-dc23-4b71-b68c-69ac648c712d"
   },
   "outputs": [
    {
     "data": {
      "text/plain": [
       "\"i  can grabs lot's of codes in this training\""
      ]
     },
     "execution_count": 16,
     "metadata": {
      "tags": []
     },
     "output_type": "execute_result"
    }
   ],
   "source": [
    "\"i  can grabs lot's of codes in this training\""
   ]
  },
  {
   "cell_type": "code",
   "execution_count": 22,
   "metadata": {
    "colab": {
     "base_uri": "https://localhost:8080/",
     "height": 34
    },
    "colab_type": "code",
    "id": "h7sah4rnYyoZ",
    "outputId": "8ed25ea7-2396-4837-d8a2-0284749c4bd0"
   },
   "outputs": [
    {
     "name": "stdout",
     "output_type": "stream",
     "text": [
      "24\n"
     ]
    }
   ],
   "source": [
    "name=23\n",
    "str='hello'\n",
    "print(name+1)\n"
   ]
  },
  {
   "cell_type": "code",
   "execution_count": 19,
   "metadata": {
    "colab": {
     "base_uri": "https://localhost:8080/",
     "height": 34
    },
    "colab_type": "code",
    "id": "iYkWajJcaCHt",
    "outputId": "00becc06-aa40-4dd1-e0d9-7b772e9fe3d6"
   },
   "outputs": [
    {
     "name": "stdout",
     "output_type": "stream",
     "text": [
      "23hello\n"
     ]
    }
   ],
   "source": [
    "name=23\n",
    "str=\"hello\"\n",
    "print(name+str)"
   ]
  },
  {
   "cell_type": "code",
   "execution_count": 27,
   "metadata": {
    "colab": {
     "base_uri": "https://localhost:8080/",
     "height": 34
    },
    "colab_type": "code",
    "id": "2i2Mi1PraI5n",
    "outputId": "dbeeeda7-61a2-4a4c-d37b-8d656d279a2f"
   },
   "outputs": [
    {
     "name": "stdout",
     "output_type": "stream",
     "text": [
      "my name is (one) my name is (two)\n"
     ]
    }
   ],
   "source": [
    "print(\"my name is (one) my name is (two)\".format(one=(name),two=str))"
   ]
  },
  {
   "cell_type": "code",
   "execution_count": 29,
   "metadata": {
    "colab": {
     "base_uri": "https://localhost:8080/",
     "height": 68
    },
    "colab_type": "code",
    "id": "zEjMcCOGakJj",
    "outputId": "cb9cabce-9ffe-42c8-84b4-1ccfc4175c74"
   },
   "outputs": [
    {
     "name": "stdout",
     "output_type": "stream",
     "text": [
      "enter no3\n",
      "enter no24\n",
      "no mul is 12.0\n"
     ]
    }
   ],
   "source": [
    "a=input('enter no')\n",
    "b=input('enter no2')\n",
    "x=float(a)\n",
    "y=float(b)\n",
    "print('no mul is',x*y)"
   ]
  },
  {
   "cell_type": "code",
   "execution_count": 32,
   "metadata": {
    "colab": {
     "base_uri": "https://localhost:8080/",
     "height": 68
    },
    "colab_type": "code",
    "id": "ZVQWygCWbyki",
    "outputId": "ee4f8081-6775-4305-e468-b3d67cfcba57"
   },
   "outputs": [
    {
     "name": "stdout",
     "output_type": "stream",
     "text": [
      "ente no112\n",
      "enter no20\n",
      "c and d are True True\n"
     ]
    }
   ],
   "source": [
    "c=(bool)(input('ente no1'))\n",
    "d=(bool)(input('enter no2'))\n",
    "print('c and d are',c,d)"
   ]
  },
  {
   "cell_type": "code",
   "execution_count": 39,
   "metadata": {
    "colab": {
     "base_uri": "https://localhost:8080/",
     "height": 136
    },
    "colab_type": "code",
    "id": "UdB5eXvec20r",
    "outputId": "d23216b0-204b-48e5-8333-888b8e5955f9"
   },
   "outputs": [
    {
     "name": "stdout",
     "output_type": "stream",
     "text": [
      "enter no of employee2\n",
      "enter ssn112\n",
      "enter namevijju\n",
      "enter salary1890\n",
      "enter fresher or not?T|FT\n",
      "SSN\tNAME\tSALARY\tTOTAL_SALARY\tFR|EXP\n",
      " 112 vijju 1890.0 2268.0 True\n"
     ]
    }
   ],
   "source": [
    "n=input('enter no of employee')\n",
    "i=0\n",
    "for i in n:\n",
    "  ssn=input('enter ssn')\n",
    "  name=input('enter name')\n",
    "  salary=float(input('enter salary'))\n",
    "  total_sal=salary*1.2\n",
    "  fr_ex=bool(input('enter fresher or not?T|F'))\n",
    "  \n",
    "i=0\n",
    "for i in n:\n",
    "  print('SSN\\tNAME\\tSALARY\\tTOTAL_SALARY\\tFR|EXP')\n",
    "  print('',ssn,name,salary,total_sal,fr_ex)\n",
    " \n",
    "\n",
    "  \n",
    "        \n",
    "  "
   ]
  },
  {
   "cell_type": "code",
   "execution_count": 43,
   "metadata": {
    "colab": {
     "base_uri": "https://localhost:8080/",
     "height": 51
    },
    "colab_type": "code",
    "id": "GaF6fzjzgnqk",
    "outputId": "3e130016-30a7-4dd5-9204-dfc662af7e93"
   },
   "outputs": [
    {
     "name": "stdout",
     "output_type": "stream",
     "text": [
      "enter 3 floating point number1,6,7\n",
      "14\n"
     ]
    }
   ],
   "source": [
    "a,b,c=[int(x) for x in input('enter 3 floating point number').split(',')]\n",
    "print(a+b+c)\n",
    "\n"
   ]
  },
  {
   "cell_type": "code",
   "execution_count": 46,
   "metadata": {
    "colab": {
     "base_uri": "https://localhost:8080/",
     "height": 34
    },
    "colab_type": "code",
    "id": "YPnqTosri4sn",
    "outputId": "6c0dcc17-d5cc-4fc6-fabc-22b8aad14042"
   },
   "outputs": [
    {
     "name": "stdout",
     "output_type": "stream",
     "text": [
      "9\n"
     ]
    }
   ],
   "source": [
    "x=eval(\"1+3+5\")\n",
    "print(x)"
   ]
  },
  {
   "cell_type": "code",
   "execution_count": 48,
   "metadata": {
    "colab": {
     "base_uri": "https://localhost:8080/",
     "height": 34
    },
    "colab_type": "code",
    "id": "-ZeqANBxjvps",
    "outputId": "68739698-2ba6-4397-85a5-157f4559d2a4"
   },
   "outputs": [
    {
     "name": "stdout",
     "output_type": "stream",
     "text": [
      "1\n"
     ]
    }
   ],
   "source": [
    "x=eval(\"2*4-(3+4)\")\n",
    "print(x)"
   ]
  },
  {
   "cell_type": "code",
   "execution_count": 50,
   "metadata": {
    "colab": {
     "base_uri": "https://localhost:8080/",
     "height": 34
    },
    "colab_type": "code",
    "id": "xZzjcuO0kAdV",
    "outputId": "68f50b9b-1b15-4339-8843-a14b7a01b2d1"
   },
   "outputs": [
    {
     "name": "stdout",
     "output_type": "stream",
     "text": [
      "xxxxxxxxxxxx\n"
     ]
    }
   ],
   "source": [
    "print(12*\"x\")"
   ]
  },
  {
   "cell_type": "code",
   "execution_count": 51,
   "metadata": {
    "colab": {
     "base_uri": "https://localhost:8080/",
     "height": 68
    },
    "colab_type": "code",
    "id": "Szsi432ykMXk",
    "outputId": "b8f03680-45e7-4c41-8a96-0f54f651d546"
   },
   "outputs": [
    {
     "name": "stdout",
     "output_type": "stream",
     "text": [
      "ji\n",
      "gi\n",
      "hi\tgi\n"
     ]
    }
   ],
   "source": [
    "print('ji\\ngi')\n",
    "print('hi\\tgi')"
   ]
  },
  {
   "cell_type": "code",
   "execution_count": 53,
   "metadata": {
    "colab": {
     "base_uri": "https://localhost:8080/",
     "height": 51
    },
    "colab_type": "code",
    "id": "kyvnvlC-khzS",
    "outputId": "b1ea34d6-625c-44a2-c8d4-dc274a5eec06"
   },
   "outputs": [
    {
     "name": "stdout",
     "output_type": "stream",
     "text": [
      "['hi', '!', 'how', 'r', 'u']\n",
      "['hi', '!', 'how', 'r', 'u', '?']\n"
     ]
    }
   ],
   "source": [
    "lst=['hi','!','how','r','u']\n",
    "print(lst)\n",
    "lst.append('?')\n",
    "print(lst)"
   ]
  },
  {
   "cell_type": "code",
   "execution_count": 55,
   "metadata": {
    "colab": {
     "base_uri": "https://localhost:8080/",
     "height": 34
    },
    "colab_type": "code",
    "id": "36fzGd8KlNYq",
    "outputId": "410ea8f3-d36d-4134-f6b4-a6dfaa5a1e5f"
   },
   "outputs": [
    {
     "name": "stdout",
     "output_type": "stream",
     "text": [
      "['!', 'how', 'r', 'u', '?']\n"
     ]
    }
   ],
   "source": [
    "print(lst[1:])"
   ]
  },
  {
   "cell_type": "code",
   "execution_count": 56,
   "metadata": {
    "colab": {
     "base_uri": "https://localhost:8080/",
     "height": 34
    },
    "colab_type": "code",
    "id": "mi13W6bJlVx6",
    "outputId": "52c739ad-3b03-4c77-bf39-9e65bb51252f"
   },
   "outputs": [
    {
     "name": "stdout",
     "output_type": "stream",
     "text": [
      "['hi', 'hiii', 'how', 'r', 'u', '?']\n"
     ]
    }
   ],
   "source": [
    "lst[1]='hiii'\n",
    "print(lst)"
   ]
  },
  {
   "cell_type": "code",
   "execution_count": 58,
   "metadata": {
    "colab": {
     "base_uri": "https://localhost:8080/",
     "height": 34
    },
    "colab_type": "code",
    "id": "XZCPd7ovl5AK",
    "outputId": "5a28402e-bbfb-4ad8-c12f-9f7dc4617681"
   },
   "outputs": [
    {
     "name": "stdout",
     "output_type": "stream",
     "text": [
      "['c', 'd', ['e', 'f', 'g']]\n"
     ]
    }
   ],
   "source": [
    "lst1=['1','b','c','d',['e','f','g']]\n",
    "print(lst1[2:])"
   ]
  },
  {
   "cell_type": "code",
   "execution_count": 59,
   "metadata": {
    "colab": {
     "base_uri": "https://localhost:8080/",
     "height": 34
    },
    "colab_type": "code",
    "id": "9GGx8i9Ome1U",
    "outputId": "bccbe631-21d4-44b7-de35-ab0fc5819515"
   },
   "outputs": [
    {
     "name": "stdout",
     "output_type": "stream",
     "text": [
      "e\n"
     ]
    }
   ],
   "source": [
    "print(lst1[4][0])"
   ]
  },
  {
   "cell_type": "code",
   "execution_count": 0,
   "metadata": {
    "colab": {},
    "colab_type": "code",
    "id": "zVVM79I6yeV4"
   },
   "outputs": [],
   "source": []
  },
  {
   "cell_type": "code",
   "execution_count": 61,
   "metadata": {
    "colab": {
     "base_uri": "https://localhost:8080/",
     "height": 51
    },
    "colab_type": "code",
    "id": "euYW8ukJmmHI",
    "outputId": "b5b4691b-5070-4155-e95a-b52523c5875d"
   },
   "outputs": [
    {
     "name": "stdout",
     "output_type": "stream",
     "text": [
      "enter nameraj\n",
      "i dont know ur name\n"
     ]
    }
   ],
   "source": [
    "name=input(\"enter name\")\n",
    "if name==\"vijji\":\n",
    "  print('Hello world')\n",
    "else:\n",
    "  print('i dont know ur name')"
   ]
  },
  {
   "cell_type": "code",
   "execution_count": 5,
   "metadata": {
    "colab": {},
    "colab_type": "code",
    "id": "yPXsHAgbyFel"
   },
   "outputs": [
    {
     "name": "stdout",
     "output_type": "stream",
     "text": [
      "enter no80\n",
      "greter than 10\n"
     ]
    }
   ],
   "source": [
    "no=int(input(\"enter no\"))\n",
    "if no > 10:\n",
    "  print('greter than 10');\n",
    "elif no < 10:\n",
    "  print('less than 10')\n",
    "else:\n",
    "  print('equal')\n",
    "\n"
   ]
  },
  {
   "cell_type": "code",
   "execution_count": 3,
   "metadata": {
    "colab": {},
    "colab_type": "code",
    "id": "QLWxVmE3y5jG"
   },
   "outputs": [
    {
     "name": "stdout",
     "output_type": "stream",
     "text": [
      "enter no56\n",
      "greter than 10\n"
     ]
    }
   ],
   "source": [
    "no=int(input(\"enter no\"))\n",
    "if no > 10:\n",
    "  print('greter than 10');\n",
    "elif no < 10:\n",
    "  print('less than 10')\n",
    "else:\n",
    "  print('equal')\n",
    "\n"
   ]
  },
  {
   "cell_type": "code",
   "execution_count": 2,
   "metadata": {
    "colab": {},
    "colab_type": "code",
    "id": "-LcTmSvAz256"
   },
   "outputs": [
    {
     "name": "stdout",
     "output_type": "stream",
     "text": [
      "r\n",
      "a\n",
      "d\n",
      "h\n",
      "a\n"
     ]
    }
   ],
   "source": [
    "txt=\"radha\"\n",
    "for i in txt:\n",
    "  print(i)"
   ]
  },
  {
   "cell_type": "code",
   "execution_count": 1,
   "metadata": {
    "colab": {},
    "colab_type": "code",
    "id": "9pGCCWvD0Ec1"
   },
   "outputs": [
    {
     "name": "stdout",
     "output_type": "stream",
     "text": [
      "0\n",
      "2\n",
      "4\n",
      "6\n",
      "8\n",
      "10\n",
      "12\n",
      "14\n",
      "16\n",
      "18\n"
     ]
    }
   ],
   "source": [
    "for i in range(0,20):\n",
    "  if i%2==0:\n",
    "    print(i)"
   ]
  },
  {
   "cell_type": "code",
   "execution_count": 7,
   "metadata": {
    "colab": {},
    "colab_type": "code",
    "id": "FlkaB7wN1ZOn"
   },
   "outputs": [],
   "source": [
    "for i in range(20,0):\n",
    "  if i%2==0:\n",
    "    print(i)"
   ]
  },
  {
   "cell_type": "code",
   "execution_count": 11,
   "metadata": {
    "colab": {},
    "colab_type": "code",
    "id": "89zOOSGH2Qon"
   },
   "outputs": [
    {
     "name": "stdout",
     "output_type": "stream",
     "text": [
      "i= 0 j 0\n",
      "i= 0 j 1\n",
      "i= 0 j 2\n",
      "i= 0 j 3\n",
      "i= 0 j 4\n",
      "i= 0 j 5\n",
      "i= 1 j 0\n",
      "i= 1 j 1\n",
      "i= 1 j 2\n",
      "i= 1 j 3\n",
      "i= 1 j 4\n",
      "i= 1 j 5\n",
      "i= 2 j 0\n",
      "i= 2 j 1\n",
      "i= 2 j 2\n",
      "i= 2 j 3\n",
      "i= 2 j 4\n",
      "i= 2 j 5\n",
      "i= 3 j 0\n",
      "i= 3 j 1\n",
      "i= 3 j 2\n",
      "i= 3 j 3\n",
      "i= 3 j 4\n",
      "i= 3 j 5\n"
     ]
    }
   ],
   "source": [
    "for i in range(4):\n",
    "  for j in range(6):\n",
    "    print(\"i=\",i,'j',j)"
   ]
  },
  {
   "cell_type": "code",
   "execution_count": 12,
   "metadata": {
    "colab": {},
    "colab_type": "code",
    "id": "Z_GUnv3W287j"
   },
   "outputs": [
    {
     "name": "stdout",
     "output_type": "stream",
     "text": [
      "* \n",
      "* * \n",
      "* * * \n",
      "* * * * \n"
     ]
    }
   ],
   "source": [
    "for i in range(1,5):\n",
    "  for j in range(1,i+1):\n",
    "    print('*',end=\" \")\n",
    "  print()"
   ]
  },
  {
   "cell_type": "code",
   "execution_count": 13,
   "metadata": {
    "colab": {},
    "colab_type": "code",
    "id": "Nk4lHW5C3qqW"
   },
   "outputs": [
    {
     "name": "stdout",
     "output_type": "stream",
     "text": [
      "1\n",
      "2\n",
      "3\n",
      "4\n"
     ]
    }
   ],
   "source": [
    "for i in range(1,10):\n",
    "  if i==5:\n",
    "    break\n",
    "  else:\n",
    "    print(i)"
   ]
  },
  {
   "cell_type": "code",
   "execution_count": 18,
   "metadata": {
    "colab": {},
    "colab_type": "code",
    "id": "D4zWz_BR4Riy"
   },
   "outputs": [],
   "source": [
    "card=['100','9000','400','360','910']\n",
    "for i in card:\n",
    "    if i < '500':\n",
    "        break\n",
    "    else:\n",
    "        print(i)\n",
    " "
   ]
  },
  {
   "cell_type": "code",
   "execution_count": 0,
   "metadata": {
    "colab": {},
    "colab_type": "code",
    "id": "bJsWTupU54vg"
   },
   "outputs": [],
   "source": [
    "lis=dict()\n",
    "lis={'1':'hi','hai':'hello','one':'1'}\n",
    "print(lis['1'])"
   ]
  },
  {
   "cell_type": "code",
   "execution_count": 0,
   "metadata": {
    "colab": {},
    "colab_type": "code",
    "id": "bTMF8ndp6y_L"
   },
   "outputs": [],
   "source": []
  }
 ],
 "metadata": {
  "colab": {
   "collapsed_sections": [],
   "name": "Untitled0.ipynb",
   "provenance": [],
   "version": "0.3.2"
  },
  "kernelspec": {
   "display_name": "Python 3",
   "language": "python",
   "name": "python3"
  },
  "language_info": {
   "codemirror_mode": {
    "name": "ipython",
    "version": 3
   },
   "file_extension": ".py",
   "mimetype": "text/x-python",
   "name": "python",
   "nbconvert_exporter": "python",
   "pygments_lexer": "ipython3",
   "version": "3.7.1"
  }
 },
 "nbformat": 4,
 "nbformat_minor": 1
}
